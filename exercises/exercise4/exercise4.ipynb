{
 "cells": [
  {
   "cell_type": "markdown",
   "id": "15406f50",
   "metadata": {},
   "source": [
    "# Exercise 4: Non-linear intensity-based registration"
   ]
  },
  {
   "cell_type": "code",
   "execution_count": null,
   "id": "f22a8992",
   "metadata": {},
   "outputs": [],
   "source": [
    "import numpy as np\n",
    "import os\n",
    "from numpy import linalg as la\n",
    "import matplotlib.pyplot as plt\n",
    "import matplotlib as mpl\n",
    "from mpl_toolkits import mplot3d\n",
    "from scipy.io import loadmat\n",
    "from copy import copy\n",
    "import pickle\n",
    "from matplotlib import cm\n",
    "from tqdm.notebook import tqdm\n",
    "from scipy.ndimage import sobel\n",
    "mpl.rcParams.update({'font.size': 22})\n",
    "%matplotlib inline"
   ]
  },
  {
   "cell_type": "markdown",
   "id": "bef14502",
   "metadata": {},
   "source": [
    "## Data"
   ]
  },
  {
   "cell_type": "code",
   "execution_count": null,
   "id": "c8b126c0",
   "metadata": {},
   "outputs": [],
   "source": [
    "data = loadmat(\"data/mr.mat\")\n",
    "mr1 = data[\"mr1\"]\n",
    "mr2 = data[\"mr2\"]\n",
    "fig = plt.figure(figsize=(10,10))\n",
    "ax = fig.add_subplot(1,2,1)\n",
    "ax.imshow(mr1,cmap=\"gray\")\n",
    "ax = fig.add_subplot(1,2,2)\n",
    "ax.imshow(mr2,cmap=\"gray\")\n",
    "plt.show()"
   ]
  },
  {
   "cell_type": "markdown",
   "id": "a0de98cc",
   "metadata": {},
   "source": [
    "## Task 1\n",
    "Construct a set of 2D tensor B-spline basis functions as combinations of three 1D basis functions in\n",
    "each coordinate direction,i.e., construct a tensor B-spline matrix with $3\\times 3 = 9$ 2D basis functions.\n",
    "Augment the 1D boundary knots by placing 2 additional knots on top of them(cf. Fig. 2.15 and the\n",
    "Matlab code on page 42)."
   ]
  },
  {
   "cell_type": "code",
   "execution_count": null,
   "id": "a41b5b9e",
   "metadata": {},
   "outputs": [],
   "source": []
  },
  {
   "cell_type": "markdown",
   "id": "5139eb37",
   "metadata": {},
   "source": [
    "## Task 2\n",
    "Deform a grid by setting all elements of w1 to the same non-zero value, and all elements of w2 to\n",
    "zero. Do the same when the roles of w1 and w2 are reversed. Deform the grid as well by setting all\n",
    "values of w1 and w2 to zero, except for the elements corresponding to one of the 9 basis functions,\n",
    "which are set to a non-zero value."
   ]
  },
  {
   "cell_type": "code",
   "execution_count": null,
   "id": "e7965f43",
   "metadata": {},
   "outputs": [],
   "source": []
  },
  {
   "cell_type": "markdown",
   "id": "6d61318f",
   "metadata": {},
   "source": [
    "## Task 3\n",
    "Implement a non-linear intensity-based registration algorithm with B-splines as basis functions, the\n",
    "sum-of-squared differences as the similarity measure, and regularizer matrix $\\Gamma = I$. \n",
    "Use the Gauss-Newton solver as the optimizer."
   ]
  },
  {
   "cell_type": "code",
   "execution_count": null,
   "id": "b375ded6",
   "metadata": {},
   "outputs": [],
   "source": []
  },
  {
   "cell_type": "markdown",
   "id": "70aff802",
   "metadata": {},
   "source": [
    "## Task 4\n",
    "Non-linearly register the second MR slice to the first. Try to vary the number of knots,e.g. $3\\times 3$, \n",
    "$5\\times 5$ and $7\\times 7$; and the regularization parameterα,e.g., $\\alpha = 0.1, 1 \\text{and} 10$.\n",
    "Compare the results."
   ]
  },
  {
   "cell_type": "code",
   "execution_count": null,
   "id": "2a591d3a",
   "metadata": {},
   "outputs": [],
   "source": []
  }
 ],
 "metadata": {
  "kernelspec": {
   "display_name": "Python 3 (ipykernel)",
   "language": "python",
   "name": "python3"
  },
  "language_info": {
   "codemirror_mode": {
    "name": "ipython",
    "version": 3
   },
   "file_extension": ".py",
   "mimetype": "text/x-python",
   "name": "python",
   "nbconvert_exporter": "python",
   "pygments_lexer": "ipython3",
   "version": "3.10.9"
  }
 },
 "nbformat": 4,
 "nbformat_minor": 5
}
