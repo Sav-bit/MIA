{
 "cells": [
  {
   "cell_type": "markdown",
   "id": "b8e17507",
   "metadata": {},
   "source": [
    "# Report 3"
   ]
  },
  {
   "cell_type": "code",
   "execution_count": null,
   "id": "9f0e5e61",
   "metadata": {},
   "outputs": [],
   "source": [
    "import numpy as np\n",
    "import os\n",
    "from numpy import linalg as la\n",
    "import matplotlib.pyplot as plt\n",
    "import matplotlib as mpl\n",
    "from mpl_toolkits import mplot3d\n",
    "from scipy.io import loadmat\n",
    "from copy import copy\n",
    "import pickle\n",
    "mpl.rcParams.update({'font.size': 22})\n",
    "%matplotlib inline"
   ]
  },
  {
   "cell_type": "markdown",
   "id": "05d7bb5d",
   "metadata": {},
   "source": [
    "## Data"
   ]
  },
  {
   "cell_type": "code",
   "execution_count": null,
   "id": "8e3e4423",
   "metadata": {},
   "outputs": [],
   "source": [
    "data = loadmat(\"data/visiblehuman.mat\")\n",
    "data_keys = [i for i in data.keys() if not \"__\" in i]\n",
    "im_ct = data[\"head_frozen\"]\n",
    "im_mri = data[\"head_mri\"]\n",
    "fig = plt.figure(figsize=(12,4))\n",
    "ax = plt.subplot(1,2,1)\n",
    "ax.imshow(data[data_keys[1]],cmap=\"gray\")\n",
    "ax.set_title(data_keys[1])\n",
    "ax = plt.subplot(1,2,2)\n",
    "ax.imshow(data[data_keys[3]],cmap=\"gray\")"
   ]
  },
  {
   "cell_type": "markdown",
   "id": "8a4c73ca",
   "metadata": {},
   "source": [
    "## Task 1\n",
    "Compute mean and principal axes for the two images."
   ]
  },
  {
   "cell_type": "code",
   "execution_count": null,
   "id": "cb567916",
   "metadata": {},
   "outputs": [],
   "source": []
  },
  {
   "cell_type": "markdown",
   "id": "9a073773",
   "metadata": {},
   "source": [
    "## Task 2\n",
    "Match the center point and the 1st principal axis end-point from the two images to each other, by\n",
    "similarity transformation"
   ]
  },
  {
   "cell_type": "code",
   "execution_count": null,
   "id": "b7c1967b",
   "metadata": {},
   "outputs": [],
   "source": []
  },
  {
   "cell_type": "markdown",
   "id": "36cfb695",
   "metadata": {},
   "source": [
    "## Task 3\n",
    "Perform the transformation as in exercise 2. Show the result as a color image with one image in red\n",
    "and the other in green. Describe the remaining transformation required to map the images."
   ]
  },
  {
   "cell_type": "code",
   "execution_count": null,
   "id": "615a5472",
   "metadata": {},
   "outputs": [],
   "source": []
  },
  {
   "cell_type": "markdown",
   "id": "a5cee577",
   "metadata": {},
   "source": [
    "## Task 4\n",
    "Find the translation that maps the principal-axes transformed images to each other by optimization\n",
    "of the mutual information between the images. One way would be to compute the mutual\n",
    "information for a grid of translations and read out the translation that leads to the optimum"
   ]
  },
  {
   "cell_type": "code",
   "execution_count": null,
   "id": "443c6165",
   "metadata": {},
   "outputs": [],
   "source": []
  },
  {
   "cell_type": "markdown",
   "id": "6a40e638",
   "metadata": {},
   "source": [
    "# Task 5\n",
    "(For the enthusiastic student) Optimize also over rotation (and scale)."
   ]
  },
  {
   "cell_type": "code",
   "execution_count": null,
   "id": "4d8c46e6",
   "metadata": {},
   "outputs": [],
   "source": []
  }
 ],
 "metadata": {
  "kernelspec": {
   "display_name": "Python 3 (ipykernel)",
   "language": "python",
   "name": "python3"
  },
  "language_info": {
   "codemirror_mode": {
    "name": "ipython",
    "version": 3
   },
   "file_extension": ".py",
   "mimetype": "text/x-python",
   "name": "python",
   "nbconvert_exporter": "python",
   "pygments_lexer": "ipython3",
   "version": "3.10.9"
  }
 },
 "nbformat": 4,
 "nbformat_minor": 5
}
