{
 "cells": [
  {
   "cell_type": "markdown",
   "id": "9c9a07f3",
   "metadata": {},
   "source": [
    "# Exercise 5:  Expectation-maximization algorithm"
   ]
  },
  {
   "cell_type": "markdown",
   "id": "d8282a25",
   "metadata": {},
   "source": [
    "## Data\n",
    "The MR data for this exercise consists of a 2-dimensional slice of a brain scan in the axial\n",
    "orientation. The file _segmentData.mat_ contains the original slice as well as a mask that excludes\n",
    "non-brain tissues such as eyeballs, fat, skin, etc. The file _correctedData.mat_ contains the same\n",
    "image, but after it has been corrected for the MR bias field artifact using the method described in\n",
    "section 4.5. It is this image you will be modeling."
   ]
  },
  {
   "cell_type": "markdown",
   "id": "9b851a28",
   "metadata": {},
   "source": [
    "## Task 1\n",
    "Display the image and plot its histogram."
   ]
  },
  {
   "cell_type": "code",
   "execution_count": null,
   "id": "058e5ecf",
   "metadata": {},
   "outputs": [],
   "source": []
  },
  {
   "cell_type": "markdown",
   "id": "239c0d85",
   "metadata": {},
   "source": [
    "## Task 2\n",
    "Compute the minimum and maximum intensity in the image (non-zero pixels), and divide the\n",
    "intensity range up into three equally wide intervals. Initialize the parameters of a 3-component\n",
    "Gaussian mixture model by setting the means of the Gaussians to the centers of the intensity\n",
    "intervals, the variances to the square of the width of the intervals, and the prior weights to $\\frac{1}{3}$ each."
   ]
  },
  {
   "cell_type": "code",
   "execution_count": null,
   "id": "e6df5eae",
   "metadata": {},
   "outputs": [],
   "source": []
  },
  {
   "cell_type": "markdown",
   "id": "49822b23",
   "metadata": {},
   "source": [
    "## Task 3\n",
    "Overlay the resulting Gaussian mixture model on the histogram by plotting each\n",
    "Gaussian weighted by its $\\pi_k$, as well as the total weighted sum of all three Gaussian distributions\n",
    "(as in fig. 4.1(b))."
   ]
  },
  {
   "cell_type": "code",
   "execution_count": null,
   "id": "18ebd50c",
   "metadata": {},
   "outputs": [],
   "source": []
  },
  {
   "cell_type": "markdown",
   "id": "63e467e3",
   "metadata": {},
   "source": [
    "## Task 4\n",
    "Compute and display the values of $w_{ik}$ defined by eq. 4.33."
   ]
  },
  {
   "cell_type": "code",
   "execution_count": null,
   "id": "a2a19e65",
   "metadata": {},
   "outputs": [],
   "source": []
  },
  {
   "cell_type": "markdown",
   "id": "ccdf77a1",
   "metadata": {},
   "source": [
    "## Task 5\n",
    "Estimate the maximum likelihood parameters by iterating between updating the model parameter\n",
    "estimate according to eq. 4.35, and recomputing the $w_{ik}$'s according to eq. 4.33. Make sure to\n",
    "perform enough iterations (e.g., 100) for the algorithm to converge. As the iterations progress, plot\n",
    "the evolution of the log likelihood function, and update each time the display of the $w_{ik}$'s as well as\n",
    "the Gaussian mixture model plot overlaid on the histogram. Include the evolution of the log\n",
    "likelihood function and the plot of the final $w_{ik}$'s and the final mixture model in your report."
   ]
  },
  {
   "cell_type": "code",
   "execution_count": null,
   "id": "af8d1aae",
   "metadata": {},
   "outputs": [],
   "source": []
  },
  {
   "cell_type": "markdown",
   "id": "f9eb9013",
   "metadata": {},
   "source": [
    "## Task 6\n",
    "Keeping all other parameters fixed to their estimated values, vary only $\\mu_2$ (the mean of the middle\n",
    "Gaussian distribution) between the estimated values of $\\mu_1$ and $\\mu_3$ in about 100 steps, and plot for\n",
    "each step the log likelihood function."
   ]
  },
  {
   "cell_type": "code",
   "execution_count": null,
   "id": "7af391f0",
   "metadata": {},
   "outputs": [],
   "source": []
  },
  {
   "cell_type": "markdown",
   "id": "7dbadaa9",
   "metadata": {},
   "source": [
    "## Task 7\n",
    "On the same figure, also plot the lower bound corresponding to the parameter vector in which all\n",
    "parameters are set to their estimated values, except $\\mu_2$ which is set to the estimated value of $\\mu_1$."
   ]
  },
  {
   "cell_type": "code",
   "execution_count": null,
   "id": "7cd94ae6",
   "metadata": {},
   "outputs": [],
   "source": []
  },
  {
   "cell_type": "markdown",
   "id": "594eb5ed",
   "metadata": {},
   "source": [
    "## Task 8\n",
    "Compute the value for $\\mu_2$ that maximizes this lower bound (first line of eq. 4.35), indicate its location\n",
    "on the figure, and comment on the result."
   ]
  },
  {
   "cell_type": "code",
   "execution_count": null,
   "id": "2329e3ab",
   "metadata": {},
   "outputs": [],
   "source": []
  }
 ],
 "metadata": {
  "kernelspec": {
   "display_name": "Python 3 (ipykernel)",
   "language": "python",
   "name": "python3"
  },
  "language_info": {
   "codemirror_mode": {
    "name": "ipython",
    "version": 3
   },
   "file_extension": ".py",
   "mimetype": "text/x-python",
   "name": "python",
   "nbconvert_exporter": "python",
   "pygments_lexer": "ipython3",
   "version": "3.10.9"
  }
 },
 "nbformat": 4,
 "nbformat_minor": 5
}
